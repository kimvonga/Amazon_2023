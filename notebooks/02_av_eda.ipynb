{
 "cells": [
  {
   "cell_type": "markdown",
   "id": "b215ee1a-7bd6-44aa-8ad1-7dc9df254955",
   "metadata": {},
   "source": [
    "### Introduction <a id='introduction'></a>\n",
    "**Purpose:** \\\n",
    "Take on the role of an e-commerce company whose products are sold on Amazon. The goal is to provide guidance on an upcoming product launch.\n",
    "\n",
    "**Data:** \\\n",
    "Data scraped from amazon.com, sourced from [Kaggle](https://www.kaggle.com/datasets/asaniczka/amazon-products-dataset-2023-1-4m-products?select=amazon_products.csv). Contains pricing and sales of all products on Amazon US for September 2023.\n",
    "\n",
    "**Summary of wrangling:** \n",
    "* Converted raw data to a sql database\n",
    "* Identified product to launch and its market, which is a vitamin c serum\n",
    "* Have not identified a company, this can be undecided\n",
    "\n",
    "**Specific questions to answer:** \\\n",
    "Product Launch: \n",
    "1. What existing products are on the market? \n",
    "    1. What is the size of the market? \n",
    "        * How much in revenue was made Sept 2023 for all products in the market? \n",
    "        * How many products make up 75% of market revenue?\n",
    "    2. Which products dominate the market? \n",
    "        * What differentiates the successful products the rest? \n",
    "        * How can we market/design our product so that we can breach the market? (do some nlp, what are customers saying about a product) \n",
    "        * How much revenue can we expect under some specific assumptions? \n",
    "\n",
    "**Outcomes of this notebook:**\n",
    "* Described current state of market\n",
    "    * there are 75 products in vitamin c serum market\n",
    "    * total monthly revenue of all products is \\$1,282,00\n",
    "    * top 25% of sellers made \\$848,000 which is approximately 66% of market\n",
    "        * mean price of top 25% is \\$32.32\n",
    "        * median revenue of top 25% is \\$31,500\n",
    "    * number of units sold independent of price\n",
    "* Identified optimal price range\n",
    "    * \\$20-\\\\$40\n",
    "* Set expectations for revenue\n",
    "    * median monthly revenue for all products is \\$10,000\n",
    "    * try to make \\$10,000 in revenue within 3 months after launch\n",
    "    * by 6 months, try to hit \\$31,500\n",
    "* Strategized title generation\n",
    "    * Stick to about 30 words in title\n",
    "    * Include bottle size (1 oz, 30 mL, etc.)\n",
    "    * Important words/phrases to include are\n",
    "        * serum, face, ferulic acid, hyaluronic acid, brightening, anti aging, vitamin\n",
    "            * tells us that customers are smart and want to know the active ingredients, so include them!\n",
    "            * popular active ingredients are vitamin c, vitamin e, ferulic acid, and hyaluronic acid\n",
    "            * customers also like descriptors \"brightening\" and \"anti-aging\"\n",
    "            * be sure to call it a serum, and specify that it is for the face\n",
    "    * Less important words are\n",
    "        * women, hydrating, firming, retinol"
   ]
  },
  {
   "cell_type": "markdown",
   "id": "08e6e9a3-90dc-4650-9838-a1ccaa40bc84",
   "metadata": {},
   "source": [
    "### Contents <a id='contents'></a>\n",
    "* [Introduction](#introduction)\n",
    "* [Contents](#contents)\n",
    "* [Objectives](#objectives)\n",
    "* [Summary](#summary)\n",
    "* [Loading Data](#loading_data)\n",
    "* [Market Details](#market_details)\n",
    "* [Market Size](#market_size)\n",
    "* [Title Analysis](#title_analysis)"
   ]
  },
  {
   "cell_type": "markdown",
   "id": "a127e2be-ef61-4093-b583-ca81a6386c72",
   "metadata": {},
   "source": [
    "### Objectives <a id='objectives'></a>\n",
    "\n",
    "Answer the following questions relating to a ficticious vitamin c serum product launch\n",
    "1. What existing products are on the market? \n",
    "    1. What is the size of the market? \n",
    "        * How much in revenue was made Sept 2023 for all products in the market? \n",
    "        * How many products make up 75% of market revenue?\n",
    "    2. Which products dominate the market? \n",
    "        * What differentiates the successful products the rest? \n",
    "        * How can we market/design our product so that we can breach the market? (do some nlp, what are customers saying about a product) \n",
    "        * How much revenue can we expect under some specific assumptions? \n"
   ]
  },
  {
   "cell_type": "markdown",
   "id": "91dd626f-b07d-40a2-bde7-603fe39a5c48",
   "metadata": {},
   "source": [
    "### Summary <a id='summary'></a>\n",
    "\n",
    "* To be filled in later"
   ]
  },
  {
   "cell_type": "markdown",
   "id": "f7346dfe-c9d5-46d6-9f93-f65565c3df2e",
   "metadata": {
    "jp-MarkdownHeadingCollapsed": true,
    "tags": []
   },
   "source": [
    "### Loading Data <a id='loading_data'></a>"
   ]
  },
  {
   "cell_type": "code",
   "execution_count": 1,
   "id": "a7af1298-414a-431f-8231-7037a2ac3b8f",
   "metadata": {
    "tags": []
   },
   "outputs": [],
   "source": [
    "import numpy as np\n",
    "import pandas as pd\n",
    "import matplotlib.pyplot as plt\n",
    "import seaborn as sns\n",
    "import sqlite3"
   ]
  },
  {
   "cell_type": "code",
   "execution_count": 2,
   "id": "1d4c5bc5-f3bc-451b-9fda-63dc55ba1e47",
   "metadata": {
    "tags": []
   },
   "outputs": [],
   "source": [
    "conn = sqlite3.connect('../data/amazon2023.db')\n",
    "cur = conn.cursor()"
   ]
  },
  {
   "cell_type": "code",
   "execution_count": 3,
   "id": "2ec8f4e6-328a-4777-acee-15ba6b2371bf",
   "metadata": {
    "tags": []
   },
   "outputs": [],
   "source": [
    "query = '''\n",
    "SELECT title, productURL, stars, reviews, price, isBestSeller, boughtInLastMonth\n",
    "FROM skin_care\n",
    "WHERE title LIKE '%vitamin c serum%'\n",
    "ORDER BY boughtInLastMonth DESC, stars DESC\n",
    "'''\n",
    "vit_c_serums = pd.read_sql(query, conn)"
   ]
  },
  {
   "cell_type": "markdown",
   "id": "4bcd78df-e55f-4f0d-8748-edef90303922",
   "metadata": {
    "jp-MarkdownHeadingCollapsed": true,
    "tags": []
   },
   "source": [
    "### Market Details <a id='market_details'></a>\n",
    "\n",
    "Summary:\n",
    "* 75 vitamin c serums on amazon\n",
    "    * median price is \\$19.99 [Q1=\\\\$14.99, Q3=\\\\$31.75]\n",
    "        * (mean, median) revenue for products with median price = (\\$21,560, \\\\$9,985)\n",
    "    * median revenue for all vitamin c products is \\$10,000 [Q1=\\\\$4,300, Q3=\\\\$21,800]\n"
   ]
  },
  {
   "cell_type": "code",
   "execution_count": 13,
   "id": "6e1dabb7-1c45-4838-baa9-e04df17545c0",
   "metadata": {
    "tags": []
   },
   "outputs": [
    {
     "data": {
      "text/plain": [
       "(75, 8)"
      ]
     },
     "execution_count": 13,
     "metadata": {},
     "output_type": "execute_result"
    }
   ],
   "source": [
    "vit_c_serums.shape"
   ]
  },
  {
   "cell_type": "code",
   "execution_count": 4,
   "id": "92aef42e-00bc-4fcc-a4bc-be5042248c6f",
   "metadata": {
    "tags": []
   },
   "outputs": [],
   "source": [
    "vit_c_serums['revenue'] = vit_c_serums['price']*vit_c_serums['boughtInLastMonth']"
   ]
  },
  {
   "cell_type": "code",
   "execution_count": 9,
   "id": "3406da79-08b0-4577-bba6-4db5a8a9b863",
   "metadata": {
    "tags": []
   },
   "outputs": [
    {
     "data": {
      "image/png": "[encoded data removed]",
      "text/plain": [
       "<Figure size 400x300 with 2 Axes>"
      ]
     },
     "metadata": {},
     "output_type": "display_data"
    }
   ],
   "source": [
    "f, (ax_box, ax_hist) = plt.subplots(2, sharex=True, figsize=(4,3), gridspec_kw={\"height_ratios\": (.15, .85)})\n",
    "\n",
    "sns.boxplot(x=vit_c_serums.price, ax=ax_box)\n",
    "sns.histplot(x=vit_c_serums.price, bins=30, ax=ax_hist)\n",
    "\n",
    "ax_box.set(yticks=[])\n",
    "sns.despine(ax=ax_hist)\n",
    "sns.despine(ax=ax_box, left=True)\n",
    "plt.xlabel('Price ($) of Vitamin C Serums')\n",
    "ax_box.set_xlabel('');"
   ]
  },
  {
   "cell_type": "code",
   "execution_count": 12,
   "id": "f34ae238-181f-4aeb-bd01-8c877d7b194f",
   "metadata": {
    "tags": []
   },
   "outputs": [
    {
     "data": {
      "image/png": "[encoded data removed]",
      "text/plain": [
       "<Figure size 600x300 with 2 Axes>"
      ]
     },
     "metadata": {},
     "output_type": "display_data"
    }
   ],
   "source": [
    "f, (ax_box, ax_hist) = plt.subplots(2, sharex=True, figsize=(6,3), gridspec_kw={\"height_ratios\": (.15, .85)})\n",
    "\n",
    "sns.boxplot(x=vit_c_serums.revenue, ax=ax_box, color='C1')\n",
    "sns.histplot(x=vit_c_serums.revenue, bins=50, ax=ax_hist, color='C1')\n",
    "\n",
    "ax_box.set(yticks=[])\n",
    "sns.despine(ax=ax_hist)\n",
    "sns.despine(ax=ax_box, left=True)\n",
    "plt.xlabel('Revenue ($) of Vitamin C Serums for Sept 2023')\n",
    "ax_box.set_xlabel('');"
   ]
  },
  {
   "cell_type": "code",
   "execution_count": 7,
   "id": "c448438b-abe0-4c6a-95ba-e49ac40eb971",
   "metadata": {
    "tags": []
   },
   "outputs": [
    {
     "data": {
      "text/html": [
       "<div>\n",
       "<style scoped>\n",
       "    .dataframe tbody tr th:only-of-type {\n",
       "        vertical-align: middle;\n",
       "    }\n",
       "\n",
       "    .dataframe tbody tr th {\n",
       "        vertical-align: top;\n",
       "    }\n",
       "\n",
       "    .dataframe thead th {\n",
       "        text-align: right;\n",
       "    }\n",
       "</style>\n",
       "<table border=\"1\" class=\"dataframe\">\n",
       "  <thead>\n",
       "    <tr style=\"text-align: right;\">\n",
       "      <th></th>\n",
       "      <th>price</th>\n",
       "      <th>revenue</th>\n",
       "    </tr>\n",
       "  </thead>\n",
       "  <tbody>\n",
       "    <tr>\n",
       "      <th>0.25</th>\n",
       "      <td>14.875</td>\n",
       "      <td>4307.0</td>\n",
       "    </tr>\n",
       "    <tr>\n",
       "      <th>0.50</th>\n",
       "      <td>19.970</td>\n",
       "      <td>9990.0</td>\n",
       "    </tr>\n",
       "    <tr>\n",
       "      <th>0.75</th>\n",
       "      <td>31.745</td>\n",
       "      <td>21815.0</td>\n",
       "    </tr>\n",
       "  </tbody>\n",
       "</table>\n",
       "</div>"
      ],
      "text/plain": [
       "       price  revenue\n",
       "0.25  14.875   4307.0\n",
       "0.50  19.970   9990.0\n",
       "0.75  31.745  21815.0"
      ]
     },
     "execution_count": 7,
     "metadata": {},
     "output_type": "execute_result"
    }
   ],
   "source": [
    "vit_c_serums[['price', 'revenue']].quantile([0.25, 0.5, 0.75])"
   ]
  },
  {
   "cell_type": "code",
   "execution_count": 28,
   "id": "71226fc3-55ae-4d5c-8ccb-3c539a6b4c84",
   "metadata": {
    "tags": []
   },
   "outputs": [
    {
     "name": "stdout",
     "output_type": "stream",
     "text": [
      "(mean, median) revenue for products with median price = ($21560.11, $9985.00)\n"
     ]
    }
   ],
   "source": [
    "mean = vit_c_serums[[a and b for a,b in zip(vit_c_serums['price'] < 21, vit_c_serums['price'] > 19)]].revenue.mean()\n",
    "median = vit_c_serums[[a and b for a,b in zip(vit_c_serums['price'] < 21, vit_c_serums['price'] > 19)]].revenue.median()\n",
    "print('(mean, median) revenue for products with median price = (${:.2f}, ${:.2f})'.format(mean, median))"
   ]
  },
  {
   "cell_type": "markdown",
   "id": "753d660b-73cd-4c25-85b0-a9a724c6faba",
   "metadata": {
    "jp-MarkdownHeadingCollapsed": true,
    "tags": []
   },
   "source": [
    "### Market Size <a id='market_size'></a>\n",
    "\n",
    "Summary:\n",
    "* total revenue for all products = \\$1,282,000\n",
    "    * top 5% of earners made \\$361,210, which is 28% of share\n",
    "        * average price for these earners is \\$19.50 and sold, on average, 4,750 units. **Higher price does not support more sales**\n",
    "        * also, average rating is 4.5. Can think of 4.5 as threshold for credibility.\n",
    "    * top 25% of earners made \\$847,859, which is 66% of share\n",
    "        * average price is \\$32.32 and sold, on average, 1900 units.\n",
    "        * also, average rating is 4.5\n",
    "* total number of units sold = 58300\n",
    "* **Think strategy here is to price our product in the range of \\$20-40. Want to be in the competitive range at the same time, we want to appear as a premium product.**\n",
    "    * At a price of \\$20-24, would need to sell 420-450 units per month to make \\\\$10,000 in revenue (the median revenue for all products), and would need to sell 900-1000 units to be in the top 25% of earners\n",
    "    * Crafting an appealing title will be out best chance of attracting customers\n",
    "        * Will identify key words in the titles of products whose revenue is in the top 25% (>\\$21,815) and whose price is within the range of \\\\$20-40"
   ]
  },
  {
   "cell_type": "code",
   "execution_count": 31,
   "id": "7954a475-ad4b-4639-a279-74e407da50a4",
   "metadata": {
    "tags": []
   },
   "outputs": [
    {
     "name": "stdout",
     "output_type": "stream",
     "text": [
      "total revenue for all products = 1282233.00\n"
     ]
    }
   ],
   "source": [
    "print('total revenue for all products = {:.2f}'.format(vit_c_serums['revenue'].sum()))"
   ]
  },
  {
   "cell_type": "code",
   "execution_count": 32,
   "id": "e5cd27a3-3807-4ee1-afac-8233098cb719",
   "metadata": {
    "tags": []
   },
   "outputs": [
    {
     "name": "stdout",
     "output_type": "stream",
     "text": [
      "total number of units sold = 58300\n"
     ]
    }
   ],
   "source": [
    "print('total number of units sold = {:.0f}'.format(vit_c_serums['boughtInLastMonth'].sum()))"
   ]
  },
  {
   "cell_type": "code",
   "execution_count": 33,
   "id": "9ea96f2e-4626-404f-be1b-2b182639fb94",
   "metadata": {
    "tags": []
   },
   "outputs": [],
   "source": [
    "med_price_mask = [a and b for a,b in zip(vit_c_serums['price'] < 21, vit_c_serums['price'] > 19)]"
   ]
  },
  {
   "cell_type": "code",
   "execution_count": 36,
   "id": "edafd2ac-7751-4f0c-af8d-a1973150f12c",
   "metadata": {
    "tags": []
   },
   "outputs": [
    {
     "name": "stdout",
     "output_type": "stream",
     "text": [
      "revenue of median priced products = 194041\n"
     ]
    }
   ],
   "source": [
    "print('revenue of median priced products = {:.0f}'.format(vit_c_serums[med_price_mask]['revenue'].sum()))"
   ]
  },
  {
   "cell_type": "code",
   "execution_count": 39,
   "id": "5413bbf4-c6bf-4af5-8bfe-9ec1f7c170b5",
   "metadata": {
    "tags": []
   },
   "outputs": [
    {
     "data": {
      "text/plain": [
       "0.6612362963673529"
      ]
     },
     "execution_count": 39,
     "metadata": {},
     "output_type": "execute_result"
    }
   ],
   "source": [
    "vit_c_serums[vit_c_serums['revenue'] >= 21800]['revenue'].sum()/1282233.00"
   ]
  },
  {
   "cell_type": "code",
   "execution_count": 47,
   "id": "72d7bfc8-b5db-41b4-a554-c88c59b9b508",
   "metadata": {
    "tags": []
   },
   "outputs": [],
   "source": [
    "q1q3_rev_mask = [a and b for a,b in zip(vit_c_serums['revenue'] < 21800, vit_c_serums['revenue'] > 4300)]"
   ]
  },
  {
   "cell_type": "code",
   "execution_count": 50,
   "id": "c6723aaa-c86e-4a7c-b5ba-ac53e072e52a",
   "metadata": {
    "tags": []
   },
   "outputs": [
    {
     "name": "stdout",
     "output_type": "stream",
     "text": [
      "total revenue for products with revenue between Q1 and Q3 = 403278\n"
     ]
    }
   ],
   "source": [
    "print('total revenue for products with revenue between Q1 and Q3 = {:.0f}'.format(vit_c_serums[q1q3_rev_mask]['revenue'].sum()))"
   ]
  },
  {
   "cell_type": "code",
   "execution_count": 58,
   "id": "7334b2fa-9282-4014-8dd5-2376c23a31b5",
   "metadata": {
    "tags": []
   },
   "outputs": [
    {
     "name": "stdout",
     "output_type": "stream",
     "text": [
      "revenue of top 95% earners = 361210\n"
     ]
    }
   ],
   "source": [
    "print('revenue of top 95% earners = {:.0f}'.format(vit_c_serums[vit_c_serums['revenue'] >= 70404]['revenue'].sum()))"
   ]
  },
  {
   "cell_type": "code",
   "execution_count": 63,
   "id": "46bbd050-2017-4609-ac57-7d5f5d3141f9",
   "metadata": {
    "tags": []
   },
   "outputs": [
    {
     "data": {
      "text/html": [
       "<div>\n",
       "<style scoped>\n",
       "    .dataframe tbody tr th:only-of-type {\n",
       "        vertical-align: middle;\n",
       "    }\n",
       "\n",
       "    .dataframe tbody tr th {\n",
       "        vertical-align: top;\n",
       "    }\n",
       "\n",
       "    .dataframe thead th {\n",
       "        text-align: right;\n",
       "    }\n",
       "</style>\n",
       "<table border=\"1\" class=\"dataframe\">\n",
       "  <thead>\n",
       "    <tr style=\"text-align: right;\">\n",
       "      <th></th>\n",
       "      <th>title</th>\n",
       "      <th>productURL</th>\n",
       "      <th>stars</th>\n",
       "      <th>reviews</th>\n",
       "      <th>price</th>\n",
       "      <th>isBestSeller</th>\n",
       "      <th>boughtInLastMonth</th>\n",
       "      <th>revenue</th>\n",
       "    </tr>\n",
       "  </thead>\n",
       "  <tbody>\n",
       "    <tr>\n",
       "      <th>0</th>\n",
       "      <td>SKIN DEVA 20% Vitamin C Serum for Face with Vi...</td>\n",
       "      <td>https://www.amazon.com/dp/B01BJCX44Q</td>\n",
       "      <td>4.3</td>\n",
       "      <td>0</td>\n",
       "      <td>19.99</td>\n",
       "      <td>0</td>\n",
       "      <td>6000</td>\n",
       "      <td>119940.0</td>\n",
       "    </tr>\n",
       "    <tr>\n",
       "      <th>1</th>\n",
       "      <td>Vanicream Vitamin C Serum - Free of Dyes, Frag...</td>\n",
       "      <td>https://www.amazon.com/dp/B0BJ4GZTK1</td>\n",
       "      <td>4.5</td>\n",
       "      <td>0</td>\n",
       "      <td>18.99</td>\n",
       "      <td>0</td>\n",
       "      <td>5000</td>\n",
       "      <td>94950.0</td>\n",
       "    </tr>\n",
       "    <tr>\n",
       "      <th>2</th>\n",
       "      <td>PURA D'OR 20% Vitamin C Serum (4oz BEST VALUE)...</td>\n",
       "      <td>https://www.amazon.com/dp/B00KMCEA4S</td>\n",
       "      <td>4.4</td>\n",
       "      <td>0</td>\n",
       "      <td>14.99</td>\n",
       "      <td>0</td>\n",
       "      <td>5000</td>\n",
       "      <td>74950.0</td>\n",
       "    </tr>\n",
       "    <tr>\n",
       "      <th>3</th>\n",
       "      <td>Mad Hippie Vitamin C Serum for Face with Hyalu...</td>\n",
       "      <td>https://www.amazon.com/dp/B005IXQLDE</td>\n",
       "      <td>4.6</td>\n",
       "      <td>0</td>\n",
       "      <td>23.79</td>\n",
       "      <td>0</td>\n",
       "      <td>3000</td>\n",
       "      <td>71370.0</td>\n",
       "    </tr>\n",
       "  </tbody>\n",
       "</table>\n",
       "</div>"
      ],
      "text/plain": [
       "                                               title  \\\n",
       "0  SKIN DEVA 20% Vitamin C Serum for Face with Vi...   \n",
       "1  Vanicream Vitamin C Serum - Free of Dyes, Frag...   \n",
       "2  PURA D'OR 20% Vitamin C Serum (4oz BEST VALUE)...   \n",
       "3  Mad Hippie Vitamin C Serum for Face with Hyalu...   \n",
       "\n",
       "                             productURL  stars  reviews  price  isBestSeller  \\\n",
       "0  https://www.amazon.com/dp/B01BJCX44Q    4.3        0  19.99             0   \n",
       "1  https://www.amazon.com/dp/B0BJ4GZTK1    4.5        0  18.99             0   \n",
       "2  https://www.amazon.com/dp/B00KMCEA4S    4.4        0  14.99             0   \n",
       "3  https://www.amazon.com/dp/B005IXQLDE    4.6        0  23.79             0   \n",
       "\n",
       "   boughtInLastMonth   revenue  \n",
       "0               6000  119940.0  \n",
       "1               5000   94950.0  \n",
       "2               5000   74950.0  \n",
       "3               3000   71370.0  "
      ]
     },
     "execution_count": 63,
     "metadata": {},
     "output_type": "execute_result"
    }
   ],
   "source": [
    "vit_c_serums[vit_c_serums['revenue'] >= 70404]"
   ]
  },
  {
   "cell_type": "code",
   "execution_count": 178,
   "id": "225be944-74da-4852-a058-8c68b637ef5b",
   "metadata": {
    "tags": []
   },
   "outputs": [
    {
     "data": {
      "text/plain": [
       "Text(0, 0.5, 'Units Sold in Sept 2023')"
      ]
     },
     "execution_count": 178,
     "metadata": {},
     "output_type": "execute_result"
    },
    {
     "data": {
      "image/png": "[encoded data removed]",
      "text/plain": [
       "<Figure size 400x300 with 1 Axes>"
      ]
     },
     "metadata": {},
     "output_type": "display_data"
    }
   ],
   "source": [
    "plt.figure(figsize=(4,3))\n",
    "plt.plot(vit_c_serums['price'], vit_c_serums['boughtInLastMonth'], '.')\n",
    "plt.xlabel('Price ($)')\n",
    "plt.ylabel('Units Sold in Sept 2023')"
   ]
  },
  {
   "cell_type": "code",
   "execution_count": null,
   "id": "35a7f404-b702-433d-8446-aa2988cd60b0",
   "metadata": {},
   "outputs": [],
   "source": []
  },
  {
   "cell_type": "code",
   "execution_count": 66,
   "id": "4621ddbe-47fd-4211-a42f-afcbaad3e35b",
   "metadata": {
    "tags": []
   },
   "outputs": [
    {
     "data": {
      "text/plain": [
       "21815.0"
      ]
     },
     "execution_count": 66,
     "metadata": {},
     "output_type": "execute_result"
    }
   ],
   "source": [
    "vit_c_serums['revenue'].quantile(0.75)"
   ]
  },
  {
   "cell_type": "code",
   "execution_count": 176,
   "id": "fd0b7662-f103-41eb-9ce0-689f36381b63",
   "metadata": {
    "tags": []
   },
   "outputs": [
    {
     "name": "stdout",
     "output_type": "stream",
     "text": [
      "median revenue of top 75% earners = 31500\n"
     ]
    }
   ],
   "source": [
    "print('median revenue of top 75% earners = {:.0f}'.format(vit_c_serums[vit_c_serums['revenue'] >= 21815]['revenue'].median()))"
   ]
  },
  {
   "cell_type": "code",
   "execution_count": 68,
   "id": "31ca331a-9e2f-4117-8a8d-f2410228c1af",
   "metadata": {
    "tags": []
   },
   "outputs": [
    {
     "name": "stdout",
     "output_type": "stream",
     "text": [
      "revenue of top 75% earners = 847859\n"
     ]
    }
   ],
   "source": [
    "print('revenue of top 75% earners = {:.0f}'.format(vit_c_serums[vit_c_serums['revenue'] >= 21815]['revenue'].sum()))"
   ]
  },
  {
   "cell_type": "code",
   "execution_count": 79,
   "id": "e51cbc2a-e127-4fb2-b73f-6748c3dff26e",
   "metadata": {
    "tags": []
   },
   "outputs": [
    {
     "data": {
      "text/html": [
       "<div>\n",
       "<style scoped>\n",
       "    .dataframe tbody tr th:only-of-type {\n",
       "        vertical-align: middle;\n",
       "    }\n",
       "\n",
       "    .dataframe tbody tr th {\n",
       "        vertical-align: top;\n",
       "    }\n",
       "\n",
       "    .dataframe thead th {\n",
       "        text-align: right;\n",
       "    }\n",
       "</style>\n",
       "<table border=\"1\" class=\"dataframe\">\n",
       "  <thead>\n",
       "    <tr style=\"text-align: right;\">\n",
       "      <th></th>\n",
       "      <th>title</th>\n",
       "      <th>productURL</th>\n",
       "      <th>stars</th>\n",
       "      <th>reviews</th>\n",
       "      <th>price</th>\n",
       "      <th>isBestSeller</th>\n",
       "      <th>boughtInLastMonth</th>\n",
       "      <th>revenue</th>\n",
       "    </tr>\n",
       "  </thead>\n",
       "  <tbody>\n",
       "    <tr>\n",
       "      <th>0</th>\n",
       "      <td>SKIN DEVA 20% Vitamin C Serum for Face with Vi...</td>\n",
       "      <td>https://www.amazon.com/dp/B01BJCX44Q</td>\n",
       "      <td>4.3</td>\n",
       "      <td>0</td>\n",
       "      <td>19.99</td>\n",
       "      <td>0</td>\n",
       "      <td>6000</td>\n",
       "      <td>119940.0</td>\n",
       "    </tr>\n",
       "    <tr>\n",
       "      <th>1</th>\n",
       "      <td>Vanicream Vitamin C Serum - Free of Dyes, Frag...</td>\n",
       "      <td>https://www.amazon.com/dp/B0BJ4GZTK1</td>\n",
       "      <td>4.5</td>\n",
       "      <td>0</td>\n",
       "      <td>18.99</td>\n",
       "      <td>0</td>\n",
       "      <td>5000</td>\n",
       "      <td>94950.0</td>\n",
       "    </tr>\n",
       "    <tr>\n",
       "      <th>2</th>\n",
       "      <td>PURA D'OR 20% Vitamin C Serum (4oz BEST VALUE)...</td>\n",
       "      <td>https://www.amazon.com/dp/B00KMCEA4S</td>\n",
       "      <td>4.4</td>\n",
       "      <td>0</td>\n",
       "      <td>14.99</td>\n",
       "      <td>0</td>\n",
       "      <td>5000</td>\n",
       "      <td>74950.0</td>\n",
       "    </tr>\n",
       "    <tr>\n",
       "      <th>3</th>\n",
       "      <td>Mad Hippie Vitamin C Serum for Face with Hyalu...</td>\n",
       "      <td>https://www.amazon.com/dp/B005IXQLDE</td>\n",
       "      <td>4.6</td>\n",
       "      <td>0</td>\n",
       "      <td>23.79</td>\n",
       "      <td>0</td>\n",
       "      <td>3000</td>\n",
       "      <td>71370.0</td>\n",
       "    </tr>\n",
       "    <tr>\n",
       "      <th>14</th>\n",
       "      <td>goPure Actives Serum Trio Set - Radiant Vitami...</td>\n",
       "      <td>https://www.amazon.com/dp/B09KH97KF2</td>\n",
       "      <td>4.3</td>\n",
       "      <td>0</td>\n",
       "      <td>69.99</td>\n",
       "      <td>0</td>\n",
       "      <td>1000</td>\n",
       "      <td>69990.0</td>\n",
       "    </tr>\n",
       "    <tr>\n",
       "      <th>4</th>\n",
       "      <td>Tree of Life Vitamin C Serum for Face - 1 Fl O...</td>\n",
       "      <td>https://www.amazon.com/dp/B00S2G786S</td>\n",
       "      <td>4.4</td>\n",
       "      <td>0</td>\n",
       "      <td>15.49</td>\n",
       "      <td>0</td>\n",
       "      <td>3000</td>\n",
       "      <td>46470.0</td>\n",
       "    </tr>\n",
       "    <tr>\n",
       "      <th>11</th>\n",
       "      <td>TruSkin Face Serum Duo – Retinol Serum for Fac...</td>\n",
       "      <td>https://www.amazon.com/dp/B08DCD5MRW</td>\n",
       "      <td>4.4</td>\n",
       "      <td>0</td>\n",
       "      <td>34.99</td>\n",
       "      <td>0</td>\n",
       "      <td>1000</td>\n",
       "      <td>34990.0</td>\n",
       "    </tr>\n",
       "    <tr>\n",
       "      <th>6</th>\n",
       "      <td>Kleem Organics Pure Vitamin C Serum for Face w...</td>\n",
       "      <td>https://www.amazon.com/dp/B00KOUALMS</td>\n",
       "      <td>4.3</td>\n",
       "      <td>0</td>\n",
       "      <td>16.97</td>\n",
       "      <td>0</td>\n",
       "      <td>2000</td>\n",
       "      <td>33940.0</td>\n",
       "    </tr>\n",
       "    <tr>\n",
       "      <th>29</th>\n",
       "      <td>Ursa Major Natural Vitamin C Serum | Brighteni...</td>\n",
       "      <td>https://www.amazon.com/dp/B071G1Q95T</td>\n",
       "      <td>4.5</td>\n",
       "      <td>0</td>\n",
       "      <td>56.00</td>\n",
       "      <td>0</td>\n",
       "      <td>600</td>\n",
       "      <td>33600.0</td>\n",
       "    </tr>\n",
       "    <tr>\n",
       "      <th>18</th>\n",
       "      <td>C Serum 22 – Pure Vitamin C Serum for Face wit...</td>\n",
       "      <td>https://www.amazon.com/dp/B00JLPM8AK</td>\n",
       "      <td>4.3</td>\n",
       "      <td>0</td>\n",
       "      <td>35.00</td>\n",
       "      <td>0</td>\n",
       "      <td>900</td>\n",
       "      <td>31500.0</td>\n",
       "    </tr>\n",
       "    <tr>\n",
       "      <th>19</th>\n",
       "      <td>Eight Saints Vitamin C Serum For Face, Anti Ag...</td>\n",
       "      <td>https://www.amazon.com/dp/B08Z2BJ473</td>\n",
       "      <td>4.7</td>\n",
       "      <td>0</td>\n",
       "      <td>38.00</td>\n",
       "      <td>0</td>\n",
       "      <td>800</td>\n",
       "      <td>30400.0</td>\n",
       "    </tr>\n",
       "    <tr>\n",
       "      <th>5</th>\n",
       "      <td>DOUBLE SIZED (2 oz) PURE VITAMIN C SERUM FOR F...</td>\n",
       "      <td>https://www.amazon.com/dp/B01HC82GS6</td>\n",
       "      <td>4.5</td>\n",
       "      <td>0</td>\n",
       "      <td>14.95</td>\n",
       "      <td>0</td>\n",
       "      <td>2000</td>\n",
       "      <td>29900.0</td>\n",
       "    </tr>\n",
       "    <tr>\n",
       "      <th>13</th>\n",
       "      <td>Vitamin C Serum for Face, Retinol Serum for Fa...</td>\n",
       "      <td>https://www.amazon.com/dp/B0B7J3VQ3H</td>\n",
       "      <td>4.4</td>\n",
       "      <td>0</td>\n",
       "      <td>28.49</td>\n",
       "      <td>0</td>\n",
       "      <td>1000</td>\n",
       "      <td>28490.0</td>\n",
       "    </tr>\n",
       "    <tr>\n",
       "      <th>26</th>\n",
       "      <td>Fièra Vitamin C Serum, Hyaluronic Acid and Cit...</td>\n",
       "      <td>https://www.amazon.com/dp/B09GW8XDX8</td>\n",
       "      <td>4.4</td>\n",
       "      <td>0</td>\n",
       "      <td>37.97</td>\n",
       "      <td>0</td>\n",
       "      <td>700</td>\n",
       "      <td>26579.0</td>\n",
       "    </tr>\n",
       "    <tr>\n",
       "      <th>33</th>\n",
       "      <td>Sesderma | C-Vit Liposomal Serum | Hydrated an...</td>\n",
       "      <td>https://www.amazon.com/dp/B00JHFPH2U</td>\n",
       "      <td>4.6</td>\n",
       "      <td>0</td>\n",
       "      <td>52.00</td>\n",
       "      <td>0</td>\n",
       "      <td>500</td>\n",
       "      <td>26000.0</td>\n",
       "    </tr>\n",
       "    <tr>\n",
       "      <th>22</th>\n",
       "      <td>Mario Badescu Vitamin C Serum for All Skin Typ...</td>\n",
       "      <td>https://www.amazon.com/dp/B003L8RVZ0</td>\n",
       "      <td>4.5</td>\n",
       "      <td>0</td>\n",
       "      <td>31.50</td>\n",
       "      <td>0</td>\n",
       "      <td>800</td>\n",
       "      <td>25200.0</td>\n",
       "    </tr>\n",
       "    <tr>\n",
       "      <th>38</th>\n",
       "      <td>Youth To The People The Youth System - 6 Piece...</td>\n",
       "      <td>https://www.amazon.com/dp/B098CWGDFM</td>\n",
       "      <td>4.6</td>\n",
       "      <td>0</td>\n",
       "      <td>59.00</td>\n",
       "      <td>0</td>\n",
       "      <td>400</td>\n",
       "      <td>23600.0</td>\n",
       "    </tr>\n",
       "    <tr>\n",
       "      <th>8</th>\n",
       "      <td>DearKlairs Freshly Juiced Vitamin Drop, 5% Hyp...</td>\n",
       "      <td>https://www.amazon.com/dp/B010FOFSH0</td>\n",
       "      <td>4.5</td>\n",
       "      <td>0</td>\n",
       "      <td>23.00</td>\n",
       "      <td>0</td>\n",
       "      <td>1000</td>\n",
       "      <td>23000.0</td>\n",
       "    </tr>\n",
       "    <tr>\n",
       "      <th>12</th>\n",
       "      <td>Super C Serum, Vibrance Vitamin C Serum for Fa...</td>\n",
       "      <td>https://www.amazon.com/dp/B0CFG5F4TV</td>\n",
       "      <td>4.4</td>\n",
       "      <td>0</td>\n",
       "      <td>22.99</td>\n",
       "      <td>0</td>\n",
       "      <td>1000</td>\n",
       "      <td>22990.0</td>\n",
       "    </tr>\n",
       "  </tbody>\n",
       "</table>\n",
       "</div>"
      ],
      "text/plain": [
       "                                                title  \\\n",
       "0   SKIN DEVA 20% Vitamin C Serum for Face with Vi...   \n",
       "1   Vanicream Vitamin C Serum - Free of Dyes, Frag...   \n",
       "2   PURA D'OR 20% Vitamin C Serum (4oz BEST VALUE)...   \n",
       "3   Mad Hippie Vitamin C Serum for Face with Hyalu...   \n",
       "14  goPure Actives Serum Trio Set - Radiant Vitami...   \n",
       "4   Tree of Life Vitamin C Serum for Face - 1 Fl O...   \n",
       "11  TruSkin Face Serum Duo – Retinol Serum for Fac...   \n",
       "6   Kleem Organics Pure Vitamin C Serum for Face w...   \n",
       "29  Ursa Major Natural Vitamin C Serum | Brighteni...   \n",
       "18  C Serum 22 – Pure Vitamin C Serum for Face wit...   \n",
       "19  Eight Saints Vitamin C Serum For Face, Anti Ag...   \n",
       "5   DOUBLE SIZED (2 oz) PURE VITAMIN C SERUM FOR F...   \n",
       "13  Vitamin C Serum for Face, Retinol Serum for Fa...   \n",
       "26  Fièra Vitamin C Serum, Hyaluronic Acid and Cit...   \n",
       "33  Sesderma | C-Vit Liposomal Serum | Hydrated an...   \n",
       "22  Mario Badescu Vitamin C Serum for All Skin Typ...   \n",
       "38  Youth To The People The Youth System - 6 Piece...   \n",
       "8   DearKlairs Freshly Juiced Vitamin Drop, 5% Hyp...   \n",
       "12  Super C Serum, Vibrance Vitamin C Serum for Fa...   \n",
       "\n",
       "                              productURL  stars  reviews  price  isBestSeller  \\\n",
       "0   https://www.amazon.com/dp/B01BJCX44Q    4.3        0  19.99             0   \n",
       "1   https://www.amazon.com/dp/B0BJ4GZTK1    4.5        0  18.99             0   \n",
       "2   https://www.amazon.com/dp/B00KMCEA4S    4.4        0  14.99             0   \n",
       "3   https://www.amazon.com/dp/B005IXQLDE    4.6        0  23.79             0   \n",
       "14  https://www.amazon.com/dp/B09KH97KF2    4.3        0  69.99             0   \n",
       "4   https://www.amazon.com/dp/B00S2G786S    4.4        0  15.49             0   \n",
       "11  https://www.amazon.com/dp/B08DCD5MRW    4.4        0  34.99             0   \n",
       "6   https://www.amazon.com/dp/B00KOUALMS    4.3        0  16.97             0   \n",
       "29  https://www.amazon.com/dp/B071G1Q95T    4.5        0  56.00             0   \n",
       "18  https://www.amazon.com/dp/B00JLPM8AK    4.3        0  35.00             0   \n",
       "19  https://www.amazon.com/dp/B08Z2BJ473    4.7        0  38.00             0   \n",
       "5   https://www.amazon.com/dp/B01HC82GS6    4.5        0  14.95             0   \n",
       "13  https://www.amazon.com/dp/B0B7J3VQ3H    4.4        0  28.49             0   \n",
       "26  https://www.amazon.com/dp/B09GW8XDX8    4.4        0  37.97             0   \n",
       "33  https://www.amazon.com/dp/B00JHFPH2U    4.6        0  52.00             0   \n",
       "22  https://www.amazon.com/dp/B003L8RVZ0    4.5        0  31.50             0   \n",
       "38  https://www.amazon.com/dp/B098CWGDFM    4.6        0  59.00             0   \n",
       "8   https://www.amazon.com/dp/B010FOFSH0    4.5        0  23.00             0   \n",
       "12  https://www.amazon.com/dp/B0CFG5F4TV    4.4        0  22.99             0   \n",
       "\n",
       "    boughtInLastMonth   revenue  \n",
       "0                6000  119940.0  \n",
       "1                5000   94950.0  \n",
       "2                5000   74950.0  \n",
       "3                3000   71370.0  \n",
       "14               1000   69990.0  \n",
       "4                3000   46470.0  \n",
       "11               1000   34990.0  \n",
       "6                2000   33940.0  \n",
       "29                600   33600.0  \n",
       "18                900   31500.0  \n",
       "19                800   30400.0  \n",
       "5                2000   29900.0  \n",
       "13               1000   28490.0  \n",
       "26                700   26579.0  \n",
       "33                500   26000.0  \n",
       "22                800   25200.0  \n",
       "38                400   23600.0  \n",
       "8                1000   23000.0  \n",
       "12               1000   22990.0  "
      ]
     },
     "execution_count": 79,
     "metadata": {},
     "output_type": "execute_result"
    }
   ],
   "source": [
    "vit_c_serums[vit_c_serums['revenue'] >= 21815].sort_values(by='revenue', ascending=False)"
   ]
  },
  {
   "cell_type": "markdown",
   "id": "d4155e05-e63a-4714-9592-843e3f2946d5",
   "metadata": {
    "jp-MarkdownHeadingCollapsed": true,
    "tags": []
   },
   "source": [
    "### Title Analysis <a id='title_analysis'></a>\n",
    "\n",
    "Takeaways:\n",
    "* Stick to about 30 words in title\n",
    "* Include bottle size (1 oz, 30 mL, etc.)\n",
    "* Important words/phrases to include are\n",
    "    * serum, face, ferulic acid, hyaluronic acid, brightening, anti aging, vitamin\n",
    "        * tells us that customers are smart and want to know the active ingredients, so include them!\n",
    "        * popular active ingredients are vitamin c, vitamin e, ferulic acid, and hyaluronic acid\n",
    "        * customers also like descriptors \"brightening\" and \"anti-aging\"\n",
    "        * be sure to call it a serum, and specify that it is for the face\n",
    "* Less important words are\n",
    "    * women, hydrating, firming, retinol\n",
    "        * if tight on word count, omit, but can include"
   ]
  },
  {
   "cell_type": "code",
   "execution_count": 86,
   "id": "e35d8fa4-9c2f-41d5-bcb4-d7bd7faf1d17",
   "metadata": {
    "tags": []
   },
   "outputs": [
    {
     "data": {
      "text/html": [
       "<div>\n",
       "<style scoped>\n",
       "    .dataframe tbody tr th:only-of-type {\n",
       "        vertical-align: middle;\n",
       "    }\n",
       "\n",
       "    .dataframe tbody tr th {\n",
       "        vertical-align: top;\n",
       "    }\n",
       "\n",
       "    .dataframe thead th {\n",
       "        text-align: right;\n",
       "    }\n",
       "</style>\n",
       "<table border=\"1\" class=\"dataframe\">\n",
       "  <thead>\n",
       "    <tr style=\"text-align: right;\">\n",
       "      <th></th>\n",
       "      <th>title</th>\n",
       "      <th>productURL</th>\n",
       "      <th>stars</th>\n",
       "      <th>reviews</th>\n",
       "      <th>price</th>\n",
       "      <th>isBestSeller</th>\n",
       "      <th>boughtInLastMonth</th>\n",
       "      <th>revenue</th>\n",
       "    </tr>\n",
       "  </thead>\n",
       "  <tbody>\n",
       "    <tr>\n",
       "      <th>0</th>\n",
       "      <td>SKIN DEVA 20% Vitamin C Serum for Face with Vi...</td>\n",
       "      <td>https://www.amazon.com/dp/B01BJCX44Q</td>\n",
       "      <td>4.3</td>\n",
       "      <td>0</td>\n",
       "      <td>19.99</td>\n",
       "      <td>0</td>\n",
       "      <td>6000</td>\n",
       "      <td>119940.0</td>\n",
       "    </tr>\n",
       "    <tr>\n",
       "      <th>3</th>\n",
       "      <td>Mad Hippie Vitamin C Serum for Face with Hyalu...</td>\n",
       "      <td>https://www.amazon.com/dp/B005IXQLDE</td>\n",
       "      <td>4.6</td>\n",
       "      <td>0</td>\n",
       "      <td>23.79</td>\n",
       "      <td>0</td>\n",
       "      <td>3000</td>\n",
       "      <td>71370.0</td>\n",
       "    </tr>\n",
       "    <tr>\n",
       "      <th>8</th>\n",
       "      <td>DearKlairs Freshly Juiced Vitamin Drop, 5% Hyp...</td>\n",
       "      <td>https://www.amazon.com/dp/B010FOFSH0</td>\n",
       "      <td>4.5</td>\n",
       "      <td>0</td>\n",
       "      <td>23.00</td>\n",
       "      <td>0</td>\n",
       "      <td>1000</td>\n",
       "      <td>23000.0</td>\n",
       "    </tr>\n",
       "    <tr>\n",
       "      <th>11</th>\n",
       "      <td>TruSkin Face Serum Duo – Retinol Serum for Fac...</td>\n",
       "      <td>https://www.amazon.com/dp/B08DCD5MRW</td>\n",
       "      <td>4.4</td>\n",
       "      <td>0</td>\n",
       "      <td>34.99</td>\n",
       "      <td>0</td>\n",
       "      <td>1000</td>\n",
       "      <td>34990.0</td>\n",
       "    </tr>\n",
       "    <tr>\n",
       "      <th>12</th>\n",
       "      <td>Super C Serum, Vibrance Vitamin C Serum for Fa...</td>\n",
       "      <td>https://www.amazon.com/dp/B0CFG5F4TV</td>\n",
       "      <td>4.4</td>\n",
       "      <td>0</td>\n",
       "      <td>22.99</td>\n",
       "      <td>0</td>\n",
       "      <td>1000</td>\n",
       "      <td>22990.0</td>\n",
       "    </tr>\n",
       "    <tr>\n",
       "      <th>13</th>\n",
       "      <td>Vitamin C Serum for Face, Retinol Serum for Fa...</td>\n",
       "      <td>https://www.amazon.com/dp/B0B7J3VQ3H</td>\n",
       "      <td>4.4</td>\n",
       "      <td>0</td>\n",
       "      <td>28.49</td>\n",
       "      <td>0</td>\n",
       "      <td>1000</td>\n",
       "      <td>28490.0</td>\n",
       "    </tr>\n",
       "    <tr>\n",
       "      <th>18</th>\n",
       "      <td>C Serum 22 – Pure Vitamin C Serum for Face wit...</td>\n",
       "      <td>https://www.amazon.com/dp/B00JLPM8AK</td>\n",
       "      <td>4.3</td>\n",
       "      <td>0</td>\n",
       "      <td>35.00</td>\n",
       "      <td>0</td>\n",
       "      <td>900</td>\n",
       "      <td>31500.0</td>\n",
       "    </tr>\n",
       "    <tr>\n",
       "      <th>19</th>\n",
       "      <td>Eight Saints Vitamin C Serum For Face, Anti Ag...</td>\n",
       "      <td>https://www.amazon.com/dp/B08Z2BJ473</td>\n",
       "      <td>4.7</td>\n",
       "      <td>0</td>\n",
       "      <td>38.00</td>\n",
       "      <td>0</td>\n",
       "      <td>800</td>\n",
       "      <td>30400.0</td>\n",
       "    </tr>\n",
       "    <tr>\n",
       "      <th>22</th>\n",
       "      <td>Mario Badescu Vitamin C Serum for All Skin Typ...</td>\n",
       "      <td>https://www.amazon.com/dp/B003L8RVZ0</td>\n",
       "      <td>4.5</td>\n",
       "      <td>0</td>\n",
       "      <td>31.50</td>\n",
       "      <td>0</td>\n",
       "      <td>800</td>\n",
       "      <td>25200.0</td>\n",
       "    </tr>\n",
       "    <tr>\n",
       "      <th>26</th>\n",
       "      <td>Fièra Vitamin C Serum, Hyaluronic Acid and Cit...</td>\n",
       "      <td>https://www.amazon.com/dp/B09GW8XDX8</td>\n",
       "      <td>4.4</td>\n",
       "      <td>0</td>\n",
       "      <td>37.97</td>\n",
       "      <td>0</td>\n",
       "      <td>700</td>\n",
       "      <td>26579.0</td>\n",
       "    </tr>\n",
       "  </tbody>\n",
       "</table>\n",
       "</div>"
      ],
      "text/plain": [
       "                                                title  \\\n",
       "0   SKIN DEVA 20% Vitamin C Serum for Face with Vi...   \n",
       "3   Mad Hippie Vitamin C Serum for Face with Hyalu...   \n",
       "8   DearKlairs Freshly Juiced Vitamin Drop, 5% Hyp...   \n",
       "11  TruSkin Face Serum Duo – Retinol Serum for Fac...   \n",
       "12  Super C Serum, Vibrance Vitamin C Serum for Fa...   \n",
       "13  Vitamin C Serum for Face, Retinol Serum for Fa...   \n",
       "18  C Serum 22 – Pure Vitamin C Serum for Face wit...   \n",
       "19  Eight Saints Vitamin C Serum For Face, Anti Ag...   \n",
       "22  Mario Badescu Vitamin C Serum for All Skin Typ...   \n",
       "26  Fièra Vitamin C Serum, Hyaluronic Acid and Cit...   \n",
       "\n",
       "                              productURL  stars  reviews  price  isBestSeller  \\\n",
       "0   https://www.amazon.com/dp/B01BJCX44Q    4.3        0  19.99             0   \n",
       "3   https://www.amazon.com/dp/B005IXQLDE    4.6        0  23.79             0   \n",
       "8   https://www.amazon.com/dp/B010FOFSH0    4.5        0  23.00             0   \n",
       "11  https://www.amazon.com/dp/B08DCD5MRW    4.4        0  34.99             0   \n",
       "12  https://www.amazon.com/dp/B0CFG5F4TV    4.4        0  22.99             0   \n",
       "13  https://www.amazon.com/dp/B0B7J3VQ3H    4.4        0  28.49             0   \n",
       "18  https://www.amazon.com/dp/B00JLPM8AK    4.3        0  35.00             0   \n",
       "19  https://www.amazon.com/dp/B08Z2BJ473    4.7        0  38.00             0   \n",
       "22  https://www.amazon.com/dp/B003L8RVZ0    4.5        0  31.50             0   \n",
       "26  https://www.amazon.com/dp/B09GW8XDX8    4.4        0  37.97             0   \n",
       "\n",
       "    boughtInLastMonth   revenue  \n",
       "0                6000  119940.0  \n",
       "3                3000   71370.0  \n",
       "8                1000   23000.0  \n",
       "11               1000   34990.0  \n",
       "12               1000   22990.0  \n",
       "13               1000   28490.0  \n",
       "18                900   31500.0  \n",
       "19                800   30400.0  \n",
       "22                800   25200.0  \n",
       "26                700   26579.0  "
      ]
     },
     "execution_count": 86,
     "metadata": {},
     "output_type": "execute_result"
    }
   ],
   "source": [
    "price_mask = [a and b for a,b in zip(vit_c_serums['price'] >= 19.80, vit_c_serums['price'] <= 41)]\n",
    "price_rev_mask = [a and b for a,b in zip(vit_c_serums['revenue'] >= 21815, price_mask)]\n",
    "vit_c_serums[price_rev_mask]"
   ]
  },
  {
   "cell_type": "code",
   "execution_count": 107,
   "id": "4b686912-2f31-487f-8ea4-09c9ace6beea",
   "metadata": {
    "tags": []
   },
   "outputs": [],
   "source": [
    "target_titles = list(vit_c_serums[price_rev_mask]['title'].values)\n",
    "complement_titles = list(vit_c_serums[[not a for a in price_rev_mask]]['title'].values)"
   ]
  },
  {
   "cell_type": "code",
   "execution_count": 110,
   "id": "838a17f9-7202-4237-9f84-1a5d51658700",
   "metadata": {
    "tags": []
   },
   "outputs": [],
   "source": [
    "import spacy\n",
    "from spacy.lang.en.stop_words import STOP_WORDS\n",
    "nlp = spacy.load(\"en_core_web_md\")"
   ]
  },
  {
   "cell_type": "code",
   "execution_count": 99,
   "id": "cd15caa0-eabe-4e71-b436-1e5d6c7d7a99",
   "metadata": {
    "tags": []
   },
   "outputs": [],
   "source": [
    "from sklearn.feature_extraction.text import TfidfVectorizer"
   ]
  },
  {
   "cell_type": "code",
   "execution_count": 108,
   "id": "a5f3d631-f7ea-4c28-990b-6ccf2d0202eb",
   "metadata": {
    "tags": []
   },
   "outputs": [
    {
     "data": {
      "text/plain": [
       "['SKIN DEVA 20% Vitamin C Serum for Face with Vitamin E Plus Ferulic Acid Skincare Serum 1 fl oz 30 ML Rejuvenates Skin to Fresh & Neutralizes Free Radicals to Brighten Even Vitamin Serum',\n",
       " 'Mad Hippie Vitamin C Serum for Face with Hyaluronic Acid, Vitamin E & Ferulic Acid - Vitamin C Face Serum for Women/Men, Skin-Brightening Serum, 1.02 Fl Oz',\n",
       " 'DearKlairs Freshly Juiced Vitamin Drop, 5% Hypoallergenic pure vitamin C serum, 1.18oz | ascorbic acid vitamin c serum, antioxidant serum for face, korean skincare',\n",
       " 'TruSkin Face Serum Duo – Retinol Serum for Face & Vitamin C Serum – Anti Aging Skin Care Set for Women – Skin Care for Bright, Smooth, & Firm Skin – 1 fl oz, 2 Bottles',\n",
       " 'Super C Serum, Vibrance Vitamin C Serum for Face, Vibrance Vit C Serum for Mature Skin, Serum Vitamina C, Vitamin C Face Serum Targets Age Spots, Wrinkles, Smooths Skin.1 fl oz',\n",
       " 'Vitamin C Serum for Face, Retinol Serum for Face with Hyaluronic Acid Serum for Face, Retinol Face Anti Aging Serum, Vitamin C Face Serum for Women, Brightening Serums for Skincare 3x1 fl by YEOUTH',\n",
       " 'C Serum 22 – Pure Vitamin C Serum for Face with Hyaluronic Acid & Ferulic Acid | Potent Anti-Aging Serum for Dark Spots, Fine Lines and Wrinkles | Brightening Serum - 1.15 Fl Oz',\n",
       " 'Eight Saints Vitamin C Serum For Face, Anti Aging Face Serum, Hyaluronic Acid, Vitamin E, Organic Aloe Vera and Jojoba Oil, Hydrating & Brightening Serum for Dark Spots, Fine Lines and Wrinkles, 1 oz',\n",
       " 'Mario Badescu Vitamin C Serum for All Skin Types | Lightweight Serum with Vitamin C & Sodium Hyaluronate | Visibly Reduces Signs of Aging | 1 Fl Oz (Pack of 1)',\n",
       " 'Fièra Vitamin C Serum, Hyaluronic Acid and Citrus Stem Cells - Anti Aging Serum for Brightening, Firming, and Hydrating Face & Eye Area - 1 FL. OZ. / 30 ML']"
      ]
     },
     "execution_count": 108,
     "metadata": {},
     "output_type": "execute_result"
    }
   ],
   "source": [
    "target_titles"
   ]
  },
  {
   "cell_type": "code",
   "execution_count": 109,
   "id": "7c5e0279-c9e9-4e43-a4b4-0f7374074c6b",
   "metadata": {
    "tags": []
   },
   "outputs": [
    {
     "data": {
      "text/plain": [
       "['Vanicream Vitamin C Serum - Free of Dyes, Fragrance, Masking Fragrance, Lanolin, Parabens & Formaldehyde Releasers - For Sensitive Skin - 1.2 Fl Oz',\n",
       " \"PURA D'OR 20% Vitamin C Serum (4oz BEST VALUE) Lightweight Maximum Strength Formula,Hyaluronic Acid,Retinol,Professional Grade Treatment For Face & Eyes,Dark Spots,Acne,Wrinkles,For Men & Women\",\n",
       " 'Tree of Life Vitamin C Serum for Face - 1 Fl Oz Skin Care Serums - Moisturizing Vitamin E for Brightening & Smoothing Dry Skin, Anti-Aging, Wrinkles & Dark Spot, Sensitive Skin - Dermatologist-Tested',\n",
       " 'DOUBLE SIZED (2 oz) PURE VITAMIN C SERUM FOR FACE With Hyaluronic Acid - Anti Wrinkle, Anti Aging, Dark Circles, Age Spots, Vitamin C, Pore Cleanser, Acne Scars, Organic Vegan Ingredients',\n",
       " 'Kleem Organics Pure Vitamin C Serum for Face with Hyaluronic Acid & Vitamin E - Anti Aging Vitamin C Face Serum for Women to Boost Collagen, Reduce Wrinkle, Acne, Dark Spot & Sun Damage - Vit C Serum',\n",
       " 'Vitamin C Face Serum with Hyaluronic Acid: Lupure Skin Vitamin C Serum Vitamin E for Dark Spots - Anti Aging Facial Serum (1 Fl Oz/ 30ml)',\n",
       " 'hims vitamin c serum for men - Brighten Skin Tone, Balance Complexion - Vitamin C, Highly Concentrated, Lightweight, Citrus Scent - Vegan, Cruelty-Free, No Parabens - (1oz)',\n",
       " 'Asterwood Triple Repair Matrixyl 3000 + Argireline + Hyaluronic Acid + Organic Vitamin C Serum for Face; Anti-Aging Face Serum, Anti-Wrinkle Serum, Facial Skin Serum Skin Care Products, 29ml/1 oz',\n",
       " 'goPure Actives Serum Trio Set - Radiant Vitamin C Serum, Hydrating Hyaluronic Acid Serum, Retinol and Bakuchiol Serum for Visibly Bright, Smooth, and Firm Looking Skin - Set of 3, 1.0 fl oz',\n",
       " 'Double Size (2OZ), 20% Vitamin C Serum for Face with Hyaluronic Acid, Face Serum Vitamin C, Vitamin C for Face Serum for Women, Vitamin C Oil for Face, Vit C Serum for Face, Vitamin C Face Serum',\n",
       " 'LilyAna Naturals Vitamin C Serum for Face - Made in USA, Face Serum with Hyaluronic Acid and Vitamin E, Anti Aging Serum, Reduces Age Spots and Sun Damage, Promotes Collagen and Elastin - 1oz',\n",
       " 'Vitamin C Serum for Face, BREYLEE Vitamin C Facial Serum, Moisturizing Face Serum, Anti Aging Serum for Skin Care, Brightening Skin with Hyaluronic Acid, Vitamin E, Retinol, Nicotinamide 0.6 Fl Oz',\n",
       " 'Mad Hippie Skin Care Set, Day & Night Dual Pack Includes 1 - Vitamin C Serum with Vitamin E & 1 - Vitamin A Serum with HPR & Aloe, Natural Vegan Active Ingredients, Travel Size, 0.5 Fl Oz Ea',\n",
       " 'No7 Lift & Luminate Triple Action Face Serum - Collagen Peptide Anti Wrinkle + Brightening Emblica & Vitamin C Serum + Pro Retinol Skin Firming Hyaluronic Acid & Hibiscus (50ml)',\n",
       " 'Vitamin C Serum for Face 20% with Hyaluronic Acid & Vitamin E, 1 fl. oz.',\n",
       " 'Clean Skin Club Vitamin C Serum & Brightening Booster, Vitamins A, E, D & K, Anti Aging Collagen Clear Facial Care, Glow, Scars, Sun Damage, Age',\n",
       " 'DOUBLE SIZED (2Oz) Vitamin C Serum for Face with Hyaluronic Acid and Vitamin E - Brightening Face Serum - Natural Anti-Aging Serum with Antioxidants - Reduce Fine Lines and Wrinkles - Paraben and Frag',\n",
       " 'Vitamin C Serum - Intensive Hyaluronic Acid, Peptide and Centella | Hydrates Skin for a Youthful Radiance | Rejuvenating Face Serum for All Skin Types | 30ml (Clear)',\n",
       " 'Vitamin C Serum 20% For Face, Pure Vitamin C Face Serum for Wrinkles, Acne, Dry Skin, and Dark Spots - Facial Vitamin C Serum (1oz)',\n",
       " 'Ursa Major Natural Vitamin C Serum | Brightening Formula Revitalizes Dull Skin and Dark Spots | Targets Wrinkles, Sagging and Loss of Firmness | Vegan, Non-Toxic, Cruelty-Free | 1 ounce',\n",
       " 'Pure Hyaluronic Acid Serum For Face - Facial Serum - Wrinkles and Fine Lines - Perfect Hydrating Serum for Face and Dry Skin - Pairs with Vitamin C Serum & Retinol Serum (2 Oz)',\n",
       " 'Neoprosone, Vitamin C Serum for Face | 1 Fl oz / 30ml | For Dark Circle, Wrinkles & Dark Spots, Hyperpigmentation Serum | with Alpha Arbutin and Castor Oil',\n",
       " 'TULA Skin Care Brightening Treatment Drops - Vitamin C Serum, Brightens the Look of Dull Skin & Dark Spots, 1fl oz',\n",
       " 'Sesderma | C-Vit Liposomal Serum | Hydrated and Radiant Skin | Antioxidant Serum | First Signs of Ageing | Pigmentation | Vitamin C Serum for Face | Professional Skincare, 1 Fl Oz',\n",
       " 'Cica Vitamin C Serum for Face, Korean Discoloration Correcting Serum for Anti-Aging, Hydrating, Dark Spot 1.1oz',\n",
       " 'Age Defying Facial Serum 3 Pack, Vitamin C Serum, Retinol Serum and Hyaluronic Acid Serum For Anti Aging & Wrinkle - Boost Skin Collagen,Hydrate & Plump Skin',\n",
       " 'goPure Actives Vitamin C Serum - Brightening Serum with Vitamin C and Ferulic Acid, Face Moisturizing and Anti-Aging Benefits, Improves Skin Discoloration and Visibly Reduces Dark Spots - 1 fl oz',\n",
       " 'CeraVe Vitamin C Serum with Hyaluronic Acid (PACK 1) (PACK 2)',\n",
       " 'Youth To The People The Youth System - 6 Piece Set with Superfood Cleanser, Face Oil, Moisturizer, Vitamin C Serum, Eye Cream, Energy Facial - Vegan, Clean Skincare Kit',\n",
       " 'Advanced Clinicals Vitamin C Body Lotion + Potent Vitamin C Serum 2pc Bundle | Face Serum & Body Cream Brightening Skin Care Set & Kits For Wrinkles, Dark Spots, Dry Skin, & Uneven Skin Tone, 2-Pack',\n",
       " 'Ultra Fine Cosmetic Grade Vitamin C Powder | DISSOLVES INSTANTLY IN WATER | Make fresh & effective Vitamin C serum | Vitamin C for Face, Body Skin Care',\n",
       " 'Eva Naturals Facelift in a Bottle - 3-in-1 Anti-Aging Set with Retinol Serum, Vitamin C Serum and Eye Gel - Formulated to Reduce Wrinkles, Fade Dark Spots and Treat Under-Eye Bags - Premium Quality',\n",
       " 'Medik8 C-Tetra - Brightening, Balancing, Plumping Daily Vitamin C Serum - Firming Treatment for Radiance and Smooth Skin Texture - Fine Line and Wrinkle Reducing Formula with Squalane - 1.0 oz',\n",
       " 'Buttah Skin Vitamin C Serum 1 FL oz e 30mL - For Face - Vitamin E - Ferulic Acid - Green Tea',\n",
       " 'Pure Body Naturals Facial Serum - Hyaluronic Acid Serum, Retinol Serum, Vitamin C Serum, and Vitamin B3 (Niacinamide) Serum - A Perfect Serum Gift Set for Women of All Ages',\n",
       " 'Natural Firm & Glow Skincare Set of 3 Serums – Skin Care Products With 20% Vitamin C Serum, Peptide Complex Serum, Niacinamide Vitamin B3 Serum - Peptides Serum for Face - Face Serum by Eva Naturals',\n",
       " 'ULTRA POTENT 30% Vitamin C Serum for Face, Vitamin E Ferulic Acid Facial Glow Serums for Brightening, Dark Spots, Anti-Wrinkle, Anti-Aging, Unscented, 30 Capsules',\n",
       " \"PURA D'OR 25% Vitamin C Serum (4oz VALUE | SET) Hyaluronic Acid & Retinol + 0.25mm Derma Roller Microdermabrasion Skin Care Cosmetic Kit For Face & Eyes, Dark Spots, Acne, Wrinkles, For Men & Women\",\n",
       " 'Vitamin C Serum with Aloe Vera & Vitamin E, Anti-Oxidant, Anti Wrinkle, Anti Aging, Skin Nourishment Day and Night Boost Collagen Production Fine Lines Soothing Hydration 2oz',\n",
       " 'MOUNTAIN TOP 20% Vitamin C Serum with Hyaluronic Acid, Witch Hazel, Vitamin E and Argan Oil for Reduces Appearance of Dark Spots, Acne, Wrinkles for Men & Women',\n",
       " 'Amazon Basics Brightening Vitamin C Serum, 1 Fluid Ounce, 1-Pack',\n",
       " 'The INKEY List Vitamin C Serum, Helps Brighten Skin, 1.01 fl oz',\n",
       " \"Kiehl's Powerful-Strenth Line-Reducing Concentrate Vitamin C Serum 1.7 Fl Oz 50mL\",\n",
       " 'Facial Oil and Vitamin C Serum - Invigorating Face Oil Formulated with Vitamin E, Rosehip, Hemp, Safflower, and Grape Seed Oil, For Skin Brightening and Hydration, 0.5 Fl OZ',\n",
       " 'Scentuals Vitamin C Serum for Face, Anti Aging Face Serum with Hyaluronic Acid, Edelweiss Plant Stem Cells, Vitamin E, Brightening Serum, Reduce Fine Lines & Wrinkles, Water-Based 2 fl.oz | 60 ml',\n",
       " 'Mad Hippie Skin Brightening Kit, Daily Skincare Routine with Triple C Night Cream, AHA Exfoliating Peel, and Vitamin C Serum',\n",
       " 'Pursonic Vitamin C Serum, 20% is a high potency Best Organic Anti-Aging Moisturizer Serum for Face, Neck & Décollete and Eye Treatment (3 fl. oz)',\n",
       " 'The Crème Shop Korean Skin Care | What Acne? - Hydrating & Healing Vitamin C Serum for Acne Treatment, Dull Skin, irritation, Restoring, Calming, Pore Tightening',\n",
       " 'SEPHORA COLLECTION Ultra Glow Serum: Glow + Strengthen Vitamin C Serum 1.7 oz/ 50 mL',\n",
       " 'goPure Vitamin C Serum for Face - Radiance-Boosting Face Serum for Glowing Skin, Formulated with Antioxidants Vitamin C and Ferulic Acid to Support more Even-Toned and Brighter-Looking Skin - 1 fl oz',\n",
       " 'Peter Thomas Roth | Potent-C Power Serum | Brightening Vitamin C Serum for Fine Lines, Wrinkles, Uneven Skin Tone, Texture and Dehydrated Skin',\n",
       " 'YEOUTH Vitamin C Serum for Face, Anti Aging Serum, Vitamin C Face Serum with Hyaluronic Acid, Vitamin C Serum Dark Spots & Wrinkles, Face Serum for Women & Men, Vitamin C for Face Brightening Serum',\n",
       " 'Buttah Skin by Dorion Renaud Complete Skin Care Kit for Melanin Rich Skin | Facial Shea Butter 2oz | Vitamin C Serum 1oz | Facial Cleanser 3.4oz | Organic & All Natural | Black Owned Skincare',\n",
       " 'Vitamin C Serum Face Serum | 2 oz | Brightening Serum for Dark Spots | Paraben & SLS Free | By Coera',\n",
       " 'Geologie Complete 5-Piece Skincare Sample Set (1 Month Supply) | Simple, Daily 3-Step Morning + Evening Routine | Includes Salicylic Acid Face Wash + Retinol Night Cream + Niacinamide Moisturizer with SPF15 + Dark Circle Eye Cream + Vitamin C Serum',\n",
       " 'Universal C Skin Refiner | 20% Vitamin C Serum - Travel Size (.30 oz / 10 ml)',\n",
       " 'Travel Face Serum Set Vitamin C Serum,Hyaluronic Acid Serum,Retinol Serum for Dark Spots, Fine Lines and Wrinkles(5ml/3 pack)',\n",
       " 'Vitamin C Serum for Face & Skin | 8 Ounces | Brightening Serum for Dark Spots | Paraben & SLS Free',\n",
       " 'Mad Hippie Vitamin C Serum for Face with Hyaluronic Acid & Triple C Night Cream Ceramide Moisturizer - Skin-Brightening Skin Care Set (2 Piece Set)',\n",
       " 'Vitamin C Serum for Face –Anti Aging Face Serum with Vitamin C, Hyaluronic Acid, Vitamin E – Reduce Fine Lines, Wrinkle Smoothing (1 Fl Oz)',\n",
       " 'L-Ascorbic Acid Powder (Cosmetic Vitamin C Powder for Face) to Make Your Own Vitamin C Serum, Hyaluronic Acid Serums with Vitamin C & Other DIY Anti-aging Cosmetic Formulations for Skin Care 6 Oz',\n",
       " 'Bioniva Vitamin C Serum for Face Vitamin E, Hyaluronic Acid. Vegan, Organic Anti Wrinkle & Anti Aging Serum. Reduce Wrinkles & Fine Lines & Stimulate Collagen. Dermaroller Microneedling 1oz',\n",
       " 'HKH Vitamin C Serum for Face, Anti Aging Serum with Hyaluronic Acid Supplements, Vitamin E, Reduces Wrinkles, Dark Spot Remover for Face, Retinol Serum for Face, Face Serum for Women',\n",
       " 'Cleen Beauty Vitamin C Serum for Face with Papaya Enzyme | Face Serum for Women - Paraben Free | Papaya Skin Glow Serum, 1 Fl. Oz.',\n",
       " 'Shankara Anti-Age Vitamin C Serum for Face - Herbal Anti Aging Serum Hydrating Formulation, Naturally Nourishes & Rejuvenates Skin, For Face Care and Neck Area (30ml)']"
      ]
     },
     "execution_count": 109,
     "metadata": {},
     "output_type": "execute_result"
    }
   ],
   "source": [
    "complement_titles"
   ]
  },
  {
   "cell_type": "code",
   "execution_count": 152,
   "id": "80aa5e44-8bdd-4a3a-b1fc-8a2572eadc83",
   "metadata": {
    "tags": []
   },
   "outputs": [],
   "source": [
    "STOP_WORDS = STOP_WORDS.difference({'he','his','her','hers'}).union({'oz', '&', 'fl', 'ml', 'll', 've', '1oz', '20', '2oz', '30', '30ml', '4oz', '50ml'})"
   ]
  },
  {
   "cell_type": "code",
   "execution_count": 153,
   "id": "2493e1c8-20e3-4beb-bbeb-ff44a26888c7",
   "metadata": {
    "tags": []
   },
   "outputs": [],
   "source": [
    "tfidf = TfidfVectorizer(stop_words=list(STOP_WORDS), ngram_range=(1,2), max_features=200)"
   ]
  },
  {
   "cell_type": "code",
   "execution_count": 154,
   "id": "7f438c52-243f-47dd-be4f-54664b7a1efd",
   "metadata": {
    "tags": []
   },
   "outputs": [
    {
     "data": {
      "text/html": [
       "<style>#sk-container-id-2 {color: black;}#sk-container-id-2 pre{padding: 0;}#sk-container-id-2 div.sk-toggleable {background-color: white;}#sk-container-id-2 label.sk-toggleable__label {cursor: pointer;display: block;width: 100%;margin-bottom: 0;padding: 0.3em;box-sizing: border-box;text-align: center;}#sk-container-id-2 label.sk-toggleable__label-arrow:before {content: \"▸\";float: left;margin-right: 0.25em;color: #696969;}#sk-container-id-2 label.sk-toggleable__label-arrow:hover:before {color: black;}#sk-container-id-2 div.sk-estimator:hover label.sk-toggleable__label-arrow:before {color: black;}#sk-container-id-2 div.sk-toggleable__content {max-height: 0;max-width: 0;overflow: hidden;text-align: left;background-color: #f0f8ff;}#sk-container-id-2 div.sk-toggleable__content pre {margin: 0.2em;color: black;border-radius: 0.25em;background-color: #f0f8ff;}#sk-container-id-2 input.sk-toggleable__control:checked~div.sk-toggleable__content {max-height: 200px;max-width: 100%;overflow: auto;}#sk-container-id-2 input.sk-toggleable__control:checked~label.sk-toggleable__label-arrow:before {content: \"▾\";}#sk-container-id-2 div.sk-estimator input.sk-toggleable__control:checked~label.sk-toggleable__label {background-color: #d4ebff;}#sk-container-id-2 div.sk-label input.sk-toggleable__control:checked~label.sk-toggleable__label {background-color: #d4ebff;}#sk-container-id-2 input.sk-hidden--visually {border: 0;clip: rect(1px 1px 1px 1px);clip: rect(1px, 1px, 1px, 1px);height: 1px;margin: -1px;overflow: hidden;padding: 0;position: absolute;width: 1px;}#sk-container-id-2 div.sk-estimator {font-family: monospace;background-color: #f0f8ff;border: 1px dotted black;border-radius: 0.25em;box-sizing: border-box;margin-bottom: 0.5em;}#sk-container-id-2 div.sk-estimator:hover {background-color: #d4ebff;}#sk-container-id-2 div.sk-parallel-item::after {content: \"\";width: 100%;border-bottom: 1px solid gray;flex-grow: 1;}#sk-container-id-2 div.sk-label:hover label.sk-toggleable__label {background-color: #d4ebff;}#sk-container-id-2 div.sk-serial::before {content: \"\";position: absolute;border-left: 1px solid gray;box-sizing: border-box;top: 0;bottom: 0;left: 50%;z-index: 0;}#sk-container-id-2 div.sk-serial {display: flex;flex-direction: column;align-items: center;background-color: white;padding-right: 0.2em;padding-left: 0.2em;position: relative;}#sk-container-id-2 div.sk-item {position: relative;z-index: 1;}#sk-container-id-2 div.sk-parallel {display: flex;align-items: stretch;justify-content: center;background-color: white;position: relative;}#sk-container-id-2 div.sk-item::before, #sk-container-id-2 div.sk-parallel-item::before {content: \"\";position: absolute;border-left: 1px solid gray;box-sizing: border-box;top: 0;bottom: 0;left: 50%;z-index: -1;}#sk-container-id-2 div.sk-parallel-item {display: flex;flex-direction: column;z-index: 1;position: relative;background-color: white;}#sk-container-id-2 div.sk-parallel-item:first-child::after {align-self: flex-end;width: 50%;}#sk-container-id-2 div.sk-parallel-item:last-child::after {align-self: flex-start;width: 50%;}#sk-container-id-2 div.sk-parallel-item:only-child::after {width: 0;}#sk-container-id-2 div.sk-dashed-wrapped {border: 1px dashed gray;margin: 0 0.4em 0.5em 0.4em;box-sizing: border-box;padding-bottom: 0.4em;background-color: white;}#sk-container-id-2 div.sk-label label {font-family: monospace;font-weight: bold;display: inline-block;line-height: 1.2em;}#sk-container-id-2 div.sk-label-container {text-align: center;}#sk-container-id-2 div.sk-container {/* jupyter's `normalize.less` sets `[hidden] { display: none; }` but bootstrap.min.css set `[hidden] { display: none !important; }` so we also need the `!important` here to be able to override the default hidden behavior on the sphinx rendered scikit-learn.org. See: https://github.com/scikit-learn/scikit-learn/issues/21755 */display: inline-block !important;position: relative;}#sk-container-id-2 div.sk-text-repr-fallback {display: none;}</style><div id=\"sk-container-id-2\" class=\"sk-top-container\"><div class=\"sk-text-repr-fallback\"><pre>TfidfVectorizer(max_features=200, ngram_range=(1, 2),\n",
       "                stop_words=[&#x27;everywhere&#x27;, &#x27;several&#x27;, &#x27;top&#x27;, &#x27;three&#x27;,\n",
       "                            &#x27;meanwhile&#x27;, &#x27;because&#x27;, &#x27;when&#x27;, &#x27;already&#x27;,\n",
       "                            &#x27;everyone&#x27;, &#x27;’ll&#x27;, &#x27;get&#x27;, &#x27;all&#x27;, &#x27;against&#x27;, &#x27;many&#x27;,\n",
       "                            &#x27;just&#x27;, &#x27;amount&#x27;, &#x27;its&#x27;, &#x27;out&#x27;, &#x27;become&#x27;, &#x27;was&#x27;,\n",
       "                            &#x27;six&#x27;, &#x27;to&#x27;, &#x27;twenty&#x27;, &#x27;some&#x27;, &#x27;in&#x27;, &#x27;noone&#x27;,\n",
       "                            &#x27;nothing&#x27;, &#x27;nobody&#x27;, &#x27;their&#x27;, &#x27;about&#x27;, ...])</pre><b>In a Jupyter environment, please rerun this cell to show the HTML representation or trust the notebook. <br />On GitHub, the HTML representation is unable to render, please try loading this page with nbviewer.org.</b></div><div class=\"sk-container\" hidden><div class=\"sk-item\"><div class=\"sk-estimator sk-toggleable\"><input class=\"sk-toggleable__control sk-hidden--visually\" id=\"sk-estimator-id-2\" type=\"checkbox\" checked><label for=\"sk-estimator-id-2\" class=\"sk-toggleable__label sk-toggleable__label-arrow\">TfidfVectorizer</label><div class=\"sk-toggleable__content\"><pre>TfidfVectorizer(max_features=200, ngram_range=(1, 2),\n",
       "                stop_words=[&#x27;everywhere&#x27;, &#x27;several&#x27;, &#x27;top&#x27;, &#x27;three&#x27;,\n",
       "                            &#x27;meanwhile&#x27;, &#x27;because&#x27;, &#x27;when&#x27;, &#x27;already&#x27;,\n",
       "                            &#x27;everyone&#x27;, &#x27;’ll&#x27;, &#x27;get&#x27;, &#x27;all&#x27;, &#x27;against&#x27;, &#x27;many&#x27;,\n",
       "                            &#x27;just&#x27;, &#x27;amount&#x27;, &#x27;its&#x27;, &#x27;out&#x27;, &#x27;become&#x27;, &#x27;was&#x27;,\n",
       "                            &#x27;six&#x27;, &#x27;to&#x27;, &#x27;twenty&#x27;, &#x27;some&#x27;, &#x27;in&#x27;, &#x27;noone&#x27;,\n",
       "                            &#x27;nothing&#x27;, &#x27;nobody&#x27;, &#x27;their&#x27;, &#x27;about&#x27;, ...])</pre></div></div></div></div></div>"
      ],
      "text/plain": [
       "TfidfVectorizer(max_features=200, ngram_range=(1, 2),\n",
       "                stop_words=['everywhere', 'several', 'top', 'three',\n",
       "                            'meanwhile', 'because', 'when', 'already',\n",
       "                            'everyone', '’ll', 'get', 'all', 'against', 'many',\n",
       "                            'just', 'amount', 'its', 'out', 'become', 'was',\n",
       "                            'six', 'to', 'twenty', 'some', 'in', 'noone',\n",
       "                            'nothing', 'nobody', 'their', 'about', ...])"
      ]
     },
     "execution_count": 154,
     "metadata": {},
     "output_type": "execute_result"
    }
   ],
   "source": [
    "tfidf.fit(complement_titles)"
   ]
  },
  {
   "cell_type": "code",
   "execution_count": 170,
   "id": "f57708b3-6086-4c16-af72-3809ae1d8fe7",
   "metadata": {
    "tags": []
   },
   "outputs": [],
   "source": [
    "df = pd.DataFrame()"
   ]
  },
  {
   "cell_type": "code",
   "execution_count": 173,
   "id": "08b59d29-6a4d-42db-997a-012adb92abdb",
   "metadata": {
    "tags": []
   },
   "outputs": [],
   "source": [
    "df['features'] = tfidf.get_feature_names_out()\n",
    "df['tf-idf_target'] = np.array(tfidf.transform(target_titles).mean(axis=0)).reshape(-1)\n",
    "df['tf-idf_complement'] = np.array(tfidf.transform(complement_titles).mean(axis=0)).reshape(-1)\n",
    "df['tf-idf_diff'] = df['tf-idf_target'] - df['tf-idf_complement']"
   ]
  },
  {
   "cell_type": "code",
   "execution_count": 175,
   "id": "449bf3ac-b174-4a33-8b9b-efab9a97295b",
   "metadata": {
    "tags": []
   },
   "outputs": [
    {
     "data": {
      "text/html": [
       "<div>\n",
       "<style scoped>\n",
       "    .dataframe tbody tr th:only-of-type {\n",
       "        vertical-align: middle;\n",
       "    }\n",
       "\n",
       "    .dataframe tbody tr th {\n",
       "        vertical-align: top;\n",
       "    }\n",
       "\n",
       "    .dataframe thead th {\n",
       "        text-align: right;\n",
       "    }\n",
       "</style>\n",
       "<table border=\"1\" class=\"dataframe\">\n",
       "  <thead>\n",
       "    <tr style=\"text-align: right;\">\n",
       "      <th></th>\n",
       "      <th>features</th>\n",
       "      <th>tf-idf_target</th>\n",
       "      <th>tf-idf_complement</th>\n",
       "      <th>tf-idf_diff</th>\n",
       "    </tr>\n",
       "  </thead>\n",
       "  <tbody>\n",
       "    <tr>\n",
       "      <th>139</th>\n",
       "      <td>serum</td>\n",
       "      <td>0.261220</td>\n",
       "      <td>0.165949</td>\n",
       "      <td>0.095271</td>\n",
       "    </tr>\n",
       "    <tr>\n",
       "      <th>60</th>\n",
       "      <td>face</td>\n",
       "      <td>0.176824</td>\n",
       "      <td>0.105494</td>\n",
       "      <td>0.071330</td>\n",
       "    </tr>\n",
       "    <tr>\n",
       "      <th>4</th>\n",
       "      <td>acid vitamin</td>\n",
       "      <td>0.094581</td>\n",
       "      <td>0.026230</td>\n",
       "      <td>0.068350</td>\n",
       "    </tr>\n",
       "    <tr>\n",
       "      <th>143</th>\n",
       "      <td>serum face</td>\n",
       "      <td>0.131757</td>\n",
       "      <td>0.067769</td>\n",
       "      <td>0.063988</td>\n",
       "    </tr>\n",
       "    <tr>\n",
       "      <th>160</th>\n",
       "      <td>skincare</td>\n",
       "      <td>0.086703</td>\n",
       "      <td>0.024214</td>\n",
       "      <td>0.062489</td>\n",
       "    </tr>\n",
       "    <tr>\n",
       "      <th>69</th>\n",
       "      <td>ferulic</td>\n",
       "      <td>0.079447</td>\n",
       "      <td>0.017667</td>\n",
       "      <td>0.061780</td>\n",
       "    </tr>\n",
       "    <tr>\n",
       "      <th>70</th>\n",
       "      <td>ferulic acid</td>\n",
       "      <td>0.079447</td>\n",
       "      <td>0.017667</td>\n",
       "      <td>0.061780</td>\n",
       "    </tr>\n",
       "    <tr>\n",
       "      <th>126</th>\n",
       "      <td>pure vitamin</td>\n",
       "      <td>0.068755</td>\n",
       "      <td>0.011249</td>\n",
       "      <td>0.057507</td>\n",
       "    </tr>\n",
       "    <tr>\n",
       "      <th>0</th>\n",
       "      <td>acid</td>\n",
       "      <td>0.116416</td>\n",
       "      <td>0.064182</td>\n",
       "      <td>0.052234</td>\n",
       "    </tr>\n",
       "    <tr>\n",
       "      <th>24</th>\n",
       "      <td>brightening serum</td>\n",
       "      <td>0.065859</td>\n",
       "      <td>0.018197</td>\n",
       "      <td>0.047662</td>\n",
       "    </tr>\n",
       "    <tr>\n",
       "      <th>12</th>\n",
       "      <td>aging serum</td>\n",
       "      <td>0.069566</td>\n",
       "      <td>0.023789</td>\n",
       "      <td>0.045777</td>\n",
       "    </tr>\n",
       "    <tr>\n",
       "      <th>125</th>\n",
       "      <td>pure</td>\n",
       "      <td>0.061426</td>\n",
       "      <td>0.016768</td>\n",
       "      <td>0.044657</td>\n",
       "    </tr>\n",
       "    <tr>\n",
       "      <th>10</th>\n",
       "      <td>aging</td>\n",
       "      <td>0.093092</td>\n",
       "      <td>0.051090</td>\n",
       "      <td>0.042001</td>\n",
       "    </tr>\n",
       "    <tr>\n",
       "      <th>187</th>\n",
       "      <td>vitamin face</td>\n",
       "      <td>0.067241</td>\n",
       "      <td>0.025599</td>\n",
       "      <td>0.041642</td>\n",
       "    </tr>\n",
       "    <tr>\n",
       "      <th>62</th>\n",
       "      <td>face hyaluronic</td>\n",
       "      <td>0.060893</td>\n",
       "      <td>0.022362</td>\n",
       "      <td>0.038531</td>\n",
       "    </tr>\n",
       "    <tr>\n",
       "      <th>183</th>\n",
       "      <td>vitamin</td>\n",
       "      <td>0.167209</td>\n",
       "      <td>0.128734</td>\n",
       "      <td>0.038475</td>\n",
       "    </tr>\n",
       "    <tr>\n",
       "      <th>66</th>\n",
       "      <td>face vitamin</td>\n",
       "      <td>0.055924</td>\n",
       "      <td>0.018768</td>\n",
       "      <td>0.037156</td>\n",
       "    </tr>\n",
       "    <tr>\n",
       "      <th>180</th>\n",
       "      <td>visibly</td>\n",
       "      <td>0.041976</td>\n",
       "      <td>0.008342</td>\n",
       "      <td>0.033634</td>\n",
       "    </tr>\n",
       "    <tr>\n",
       "      <th>87</th>\n",
       "      <td>hydrating</td>\n",
       "      <td>0.055544</td>\n",
       "      <td>0.022187</td>\n",
       "      <td>0.033357</td>\n",
       "    </tr>\n",
       "    <tr>\n",
       "      <th>92</th>\n",
       "      <td>lightweight</td>\n",
       "      <td>0.041976</td>\n",
       "      <td>0.008637</td>\n",
       "      <td>0.033339</td>\n",
       "    </tr>\n",
       "    <tr>\n",
       "      <th>142</th>\n",
       "      <td>serum dark</td>\n",
       "      <td>0.047159</td>\n",
       "      <td>0.015779</td>\n",
       "      <td>0.031380</td>\n",
       "    </tr>\n",
       "    <tr>\n",
       "      <th>95</th>\n",
       "      <td>lines wrinkles</td>\n",
       "      <td>0.047159</td>\n",
       "      <td>0.016082</td>\n",
       "      <td>0.031077</td>\n",
       "    </tr>\n",
       "    <tr>\n",
       "      <th>194</th>\n",
       "      <td>women</td>\n",
       "      <td>0.055577</td>\n",
       "      <td>0.025555</td>\n",
       "      <td>0.030022</td>\n",
       "    </tr>\n",
       "    <tr>\n",
       "      <th>73</th>\n",
       "      <td>firming</td>\n",
       "      <td>0.040112</td>\n",
       "      <td>0.011128</td>\n",
       "      <td>0.028984</td>\n",
       "    </tr>\n",
       "    <tr>\n",
       "      <th>182</th>\n",
       "      <td>vit serum</td>\n",
       "      <td>0.035131</td>\n",
       "      <td>0.006821</td>\n",
       "      <td>0.028310</td>\n",
       "    </tr>\n",
       "    <tr>\n",
       "      <th>9</th>\n",
       "      <td>age spots</td>\n",
       "      <td>0.035131</td>\n",
       "      <td>0.008067</td>\n",
       "      <td>0.027064</td>\n",
       "    </tr>\n",
       "    <tr>\n",
       "      <th>148</th>\n",
       "      <td>serum women</td>\n",
       "      <td>0.041258</td>\n",
       "      <td>0.016085</td>\n",
       "      <td>0.025173</td>\n",
       "    </tr>\n",
       "    <tr>\n",
       "      <th>61</th>\n",
       "      <td>face anti</td>\n",
       "      <td>0.042385</td>\n",
       "      <td>0.017662</td>\n",
       "      <td>0.024722</td>\n",
       "    </tr>\n",
       "    <tr>\n",
       "      <th>146</th>\n",
       "      <td>serum skin</td>\n",
       "      <td>0.039024</td>\n",
       "      <td>0.014392</td>\n",
       "      <td>0.024632</td>\n",
       "    </tr>\n",
       "    <tr>\n",
       "      <th>23</th>\n",
       "      <td>brightening</td>\n",
       "      <td>0.075335</td>\n",
       "      <td>0.051609</td>\n",
       "      <td>0.023726</td>\n",
       "    </tr>\n",
       "    <tr>\n",
       "      <th>21</th>\n",
       "      <td>brighten</td>\n",
       "      <td>0.038252</td>\n",
       "      <td>0.014927</td>\n",
       "      <td>0.023324</td>\n",
       "    </tr>\n",
       "    <tr>\n",
       "      <th>135</th>\n",
       "      <td>retinol serum</td>\n",
       "      <td>0.042299</td>\n",
       "      <td>0.020580</td>\n",
       "      <td>0.021718</td>\n",
       "    </tr>\n",
       "    <tr>\n",
       "      <th>15</th>\n",
       "      <td>anti aging</td>\n",
       "      <td>0.072452</td>\n",
       "      <td>0.051090</td>\n",
       "      <td>0.021362</td>\n",
       "    </tr>\n",
       "    <tr>\n",
       "      <th>132</th>\n",
       "      <td>reduces</td>\n",
       "      <td>0.036734</td>\n",
       "      <td>0.015542</td>\n",
       "      <td>0.021192</td>\n",
       "    </tr>\n",
       "    <tr>\n",
       "      <th>64</th>\n",
       "      <td>face serum</td>\n",
       "      <td>0.073748</td>\n",
       "      <td>0.052796</td>\n",
       "      <td>0.020952</td>\n",
       "    </tr>\n",
       "  </tbody>\n",
       "</table>\n",
       "</div>"
      ],
      "text/plain": [
       "              features  tf-idf_target  tf-idf_complement  tf-idf_diff\n",
       "139              serum       0.261220           0.165949     0.095271\n",
       "60                face       0.176824           0.105494     0.071330\n",
       "4         acid vitamin       0.094581           0.026230     0.068350\n",
       "143         serum face       0.131757           0.067769     0.063988\n",
       "160           skincare       0.086703           0.024214     0.062489\n",
       "69             ferulic       0.079447           0.017667     0.061780\n",
       "70        ferulic acid       0.079447           0.017667     0.061780\n",
       "126       pure vitamin       0.068755           0.011249     0.057507\n",
       "0                 acid       0.116416           0.064182     0.052234\n",
       "24   brightening serum       0.065859           0.018197     0.047662\n",
       "12         aging serum       0.069566           0.023789     0.045777\n",
       "125               pure       0.061426           0.016768     0.044657\n",
       "10               aging       0.093092           0.051090     0.042001\n",
       "187       vitamin face       0.067241           0.025599     0.041642\n",
       "62     face hyaluronic       0.060893           0.022362     0.038531\n",
       "183            vitamin       0.167209           0.128734     0.038475\n",
       "66        face vitamin       0.055924           0.018768     0.037156\n",
       "180            visibly       0.041976           0.008342     0.033634\n",
       "87           hydrating       0.055544           0.022187     0.033357\n",
       "92         lightweight       0.041976           0.008637     0.033339\n",
       "142         serum dark       0.047159           0.015779     0.031380\n",
       "95      lines wrinkles       0.047159           0.016082     0.031077\n",
       "194              women       0.055577           0.025555     0.030022\n",
       "73             firming       0.040112           0.011128     0.028984\n",
       "182          vit serum       0.035131           0.006821     0.028310\n",
       "9            age spots       0.035131           0.008067     0.027064\n",
       "148        serum women       0.041258           0.016085     0.025173\n",
       "61           face anti       0.042385           0.017662     0.024722\n",
       "146         serum skin       0.039024           0.014392     0.024632\n",
       "23         brightening       0.075335           0.051609     0.023726\n",
       "21            brighten       0.038252           0.014927     0.023324\n",
       "135      retinol serum       0.042299           0.020580     0.021718\n",
       "15          anti aging       0.072452           0.051090     0.021362\n",
       "132            reduces       0.036734           0.015542     0.021192\n",
       "64          face serum       0.073748           0.052796     0.020952"
      ]
     },
     "execution_count": 175,
     "metadata": {},
     "output_type": "execute_result"
    }
   ],
   "source": [
    "df.sort_values(by='tf-idf_diff', ascending=False).head(35)"
   ]
  },
  {
   "cell_type": "markdown",
   "id": "767e63c1-20c0-4c57-8027-8e3df81c0804",
   "metadata": {},
   "source": [
    "Important words/phrases are: \\\n",
    "serum, face, ferulic acid, hyaluronic acid, brightening, anti aging, vitamin\n",
    "\n",
    "Less important words/phrases are: \\\n",
    "women, hydrating, firming, retinol"
   ]
  },
  {
   "cell_type": "code",
   "execution_count": 168,
   "id": "1feb41c2-10c5-47be-a46c-0d7236dc463c",
   "metadata": {
    "tags": []
   },
   "outputs": [
    {
     "data": {
      "text/plain": [
       "31.5"
      ]
     },
     "execution_count": 168,
     "metadata": {},
     "output_type": "execute_result"
    }
   ],
   "source": [
    "np.mean([len(title.split()) for title in target_titles])"
   ]
  },
  {
   "cell_type": "code",
   "execution_count": 169,
   "id": "e6a71d99-76a2-4202-b858-fe040998c7d8",
   "metadata": {
    "tags": []
   },
   "outputs": [
    {
     "data": {
      "text/plain": [
       "27.323076923076922"
      ]
     },
     "execution_count": 169,
     "metadata": {},
     "output_type": "execute_result"
    }
   ],
   "source": [
    "np.mean([len(title.split()) for title in complement_titles])"
   ]
  },
  {
   "cell_type": "markdown",
   "id": "a2e40f5c-2bf6-43f1-aaa2-3a95cac0e557",
   "metadata": {},
   "source": [
    "Want to stick to about 30 words in title, also want to include size of bottle"
   ]
  },
  {
   "cell_type": "code",
   "execution_count": null,
   "id": "57644b1d-24fa-441d-a533-2daac98ea134",
   "metadata": {},
   "outputs": [],
   "source": []
  }
 ],
 "metadata": {
  "kernelspec": {
   "display_name": "Python 3 (ipykernel)",
   "language": "python",
   "name": "python3"
  },
  "language_info": {
   "codemirror_mode": {
    "name": "ipython",
    "version": 3
   },
   "file_extension": ".py",
   "mimetype": "text/x-python",
   "name": "python",
   "nbconvert_exporter": "python",
   "pygments_lexer": "ipython3",
   "version": "3.11.4"
  }
 },
 "nbformat": 4,
 "nbformat_minor": 5
}
